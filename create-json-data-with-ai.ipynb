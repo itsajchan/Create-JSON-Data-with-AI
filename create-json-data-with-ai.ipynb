{
 "cells": [
  {
   "cell_type": "markdown",
   "id": "0c8c5443-378b-48f9-9c98-27271eb1c011",
   "metadata": {},
   "source": [
    "# Use AI To Create Data for Your Apps!"
   ]
  },
  {
   "cell_type": "markdown",
   "id": "d5dd4081-a9c8-4775-a8fb-7af9d672bee9",
   "metadata": {},
   "source": [
    "\n",
    "<img src=\"https://weaviate.io/assets/images/weaviate-nav-logo-dark-f1b0e1c7144039f8231759f8ed84ee2a.svg\" alt=\"drawing\" width=\"200\"/>\n"
   ]
  },
  {
   "cell_type": "markdown",
   "id": "5e55af47-5d8e-426e-8a01-352e897bf280",
   "metadata": {},
   "source": [
    "In this notebook, we'll use AI to create data that we can use to populate our applications! This is great to showcase or demo what is possible with the apps you create. The data that you generate can be as realistic or as creative as you want it to be to make your application and projects more even more engaging! \n",
    "\n",
    "You'll learn how to...\n",
    "1. Use OpenAI to generate JSON objects of your design\n",
    "2. Create a **local Embedded Weaviate** instance defined in your code\n",
    "3. Define a schema in Weaviate to vectorize specific properties within your dataset\n",
    "4. Generate new content using **Weaviate's Generative Search module** through the power of **RAG**\n",
    "5. Make image inferenrces through a **Stable Diffusion** model to create images of your JSON objects\n",
    "6. Migrate your data to **Weaviate Cloud Services** to access your vectors in the cloud\n",
    "\n",
    "Let's get started!"
   ]
  },
  {
   "cell_type": "markdown",
   "id": "66a10079-1ff0-4260-9173-87aa8ea0c23e",
   "metadata": {},
   "source": [
    "## Set up OpenAI API\n",
    "\n",
    "- Ensure that you have a OpenAI API Key for the following section. \n",
    "- You can get a OpenAI API Key from [OpenAI](https://openai.com/)"
   ]
  },
  {
   "cell_type": "code",
   "execution_count": 4,
   "id": "8b8143c4-75a3-48ba-9b87-1c0fe867ae45",
   "metadata": {},
   "outputs": [],
   "source": [
    "import os\n",
    "import json\n",
    "import random\n",
    "import openai\n",
    "from IPython.display import Image\n",
    "from dotenv import load_dotenv\n",
    "\n",
    "load_dotenv()\n",
    "\n",
    "OPENAI_API_KEY = os.getenv('OPENAI_API_KEY')\n",
    "openai.api_key = OPENAI_API_KEY\n"
   ]
  },
  {
   "cell_type": "code",
   "execution_count": 2,
   "id": "bf920aa5-537e-4cee-bd75-5588462b2cc6",
   "metadata": {},
   "outputs": [],
   "source": [
    "luxury_amenities = [\n",
    "    \"Personalized Butler Service\",\n",
    "    \"Spa and Wellness Centers\",\n",
    "    \"Private Infinity Pools\",\n",
    "    \"Helipad or Private Jet Access\",\n",
    "    \"Michelin Starred Restaurants\",\n",
    "    \"Luxury Car Service\",\n",
    "    \"Rooftop Bars or Lounges\",\n",
    "    \"Private Beach Access\",\n",
    "    \"Custom Bedding and Pillow Menus\",\n",
    "    \"State-of-the-art Technology\",\n",
    "    \"Personal Chefs\",\n",
    "    \"24/7 Room Service\",\n",
    "    \"Exclusive Experiences\",\n",
    "    \"Personal Shopping Concierge\",\n",
    "    \"Private Cinema\",\n",
    "    \"Temperature-controlled Wine Fridges\",\n",
    "    \"Fully-equipped Gyms and Personal Trainers\",\n",
    "    \"Yoga and Meditation Classes\",\n",
    "    \"Pet Services\",\n",
    "    \"Cultural Immersion Activities\"\n",
    "]"
   ]
  },
  {
   "cell_type": "markdown",
   "id": "f0aae695-56a0-4cae-92bd-875545166118",
   "metadata": {},
   "source": [
    "We can also specify some landmarks"
   ]
  },
  {
   "cell_type": "code",
   "execution_count": 3,
   "id": "f4460954-4fed-4e13-b326-0db546f5d7b5",
   "metadata": {},
   "outputs": [],
   "source": [
    "sf_landmarks = [\n",
    "    \"Golden Gate Bridge\",\n",
    "    \"Alcatraz Island\",\n",
    "    \"Fisherman's Wharf\",\n",
    "    \"Cable Cars\",\n",
    "    \"Lombard Street\",\n",
    "    \"Union Square\",\n",
    "    \"Coit Tower\",\n",
    "    \"Palace of Fine Arts\",\n",
    "    \"Golden Gate Park\",\n",
    "    \"The Painted Ladies\",\n",
    "    \"Ghirardelli Square\",\n",
    "    \"Chinatown\",\n",
    "    \"San Francisco Museum of Modern Art (SFMOMA)\",\n",
    "    \"Ferry Building\",\n",
    "    \"The Castro\",\n",
    "    \"Twin Peaks\",\n",
    "    \"Pier 39\",\n",
    "    \"Haight-Ashbury\",\n",
    "    \"The Mission District\",\n",
    "    \"Transamerica Pyramid\"\n",
    "]"
   ]
  },
  {
   "cell_type": "markdown",
   "id": "c13c948a-38f5-4bf8-8c38-590debe8abf5",
   "metadata": {},
   "source": [
    "Now let's have ChatGPT Generate a JSON object with fictitious details including the randomized selections from above"
   ]
  },
  {
   "cell_type": "code",
   "execution_count": 4,
   "id": "bad333b6-8620-4787-acb3-661138c4c4ea",
   "metadata": {},
   "outputs": [],
   "source": [
    "def generate_hotel():\n",
    "    print(\"Generating a new hotel\")\n",
    "    \n",
    "    amenity = luxury_amenities[random.randint(0, len(luxury_amenities)-1)]\n",
    "    landmark = sf_landmarks[random.randint(0, len(sf_landmarks)-1)]\n",
    "    print(f\"--- Randomized Amenity: {amenity}\")\n",
    "    print(f\"--- Randomized Landmark: {landmark}\")\n",
    "    \n",
    "    completion = openai.ChatCompletion.create(\n",
    "        model=\"gpt-3.5-turbo\",\n",
    "        messages=[\n",
    "            {\n",
    "                \"role\": \"user\",\n",
    "                 \"content\": f\"Generate a fictitious hotel in the form of the JSON object below. Ensure these fictitious hotels are placed throughout San Francisco with several landmarks from the city referenced in the JSON object. Name the hotel something related to the following San Francisco landmark: {landmark}.  Additionally include this amenity: {amenity} in the topAmenity object referenced in the JSON Object. Here's the JSON Object template you'll populate\" + ''':                                                                \n",
    "                    {\n",
    "                        \"name\": \"<string>\",\n",
    "                        \"address\": \"<string>\",\n",
    "                        \"proximityToAttractions\": \"<string>\",\n",
    "                        \"neighborhoodSafety\": \"<string>\",\n",
    "                        \"accessibility\": \"<string>\",\n",
    "                        \"nightlyRate\": \"<string>\",\n",
    "                        \"hiddenFees\": \"<string>\"\n",
    "                        \"type\": \"<string>\",\n",
    "                        \"size\": \"<string>\",\n",
    "                        \"wifi\": \"<string>\",\n",
    "                        \"breakfast\": \"<string>\",\n",
    "                        \"poolAndSpa\": \"<string>\",\n",
    "                        \"climateControl\": \"<string>\",\n",
    "                        \"topAmenity\": \"<string>\",\n",
    "                        \"overallRating\": \"<string>\",\n",
    "                        \"recentReview\": \"<string>\",\n",
    "                        \"serviceAndStaff\": \"<string>\",\n",
    "                        \"cancellation\": \"<string>\",\n",
    "                        \"checkIn\": \"<string>\",\n",
    "                        \"checkOut\": \"<string>\",\n",
    "                        \"restaurant\": \"<string>\",\n",
    "                        \"roomService\": \"<string>\",\n",
    "                        \"familyFriendly\": \"<string>\",\n",
    "                        \"petPolicy\": \"<string>\",\n",
    "                        \"shuttleService\": \"<string>\",\n",
    "                        \"parking\": \"<string>\",\n",
    "                        \"safetyAndSecurity\": \"<string>\",\n",
    "                        \"specialOffers\": \"<string>\",\n",
    "                        \"ambianceAndDecor\": \"<string>\",\n",
    "                        \"environmentalInitiatives\": \"<string>\",\n",
    "                        \"businessAmenities\": \"<string>\",\n",
    "                        \"viewAndSurroundings\": \"<string>\",\n",
    "                        \"noiseLevel\": \"<string>\"\n",
    "                    }\n",
    "    '''}])\n",
    "    print(\"Done\\n\\n\")\n",
    "    return json.loads(completion['choices'][0]['message']['content'])"
   ]
  },
  {
   "cell_type": "markdown",
   "id": "c37b4020-c312-4ef4-95ea-78540e915412",
   "metadata": {},
   "source": [
    "Now that we've defined our generate_hotel function, let's try it! "
   ]
  },
  {
   "cell_type": "code",
   "execution_count": 5,
   "id": "538ab774-a796-4432-a422-cf8f6b7adfa3",
   "metadata": {},
   "outputs": [
    {
     "name": "stdout",
     "output_type": "stream",
     "text": [
      "Generating a new hotel\n",
      "--- Randomized Amenity: Temperature-controlled Wine Fridges\n",
      "--- Randomized Landmark: Golden Gate Park\n",
      "Done\n",
      "\n",
      "\n",
      "{\n",
      "    \"name\": \"Golden Gate Park Hotel\",\n",
      "    \"address\": \"1234 Park Avenue, San Francisco, CA 94121\",\n",
      "    \"proximityToAttractions\": \"Located in the heart of Golden Gate Park, just steps away from the California Academy of Sciences and the Japanese Tea Garden.\",\n",
      "    \"neighborhoodSafety\": \"Safe neighborhood with regular police patrols and high security measures in place.\",\n",
      "    \"accessibility\": \"Conveniently located near public transportation routes and major highways for easy access.\",\n",
      "    \"nightlyRate\": \"$250\",\n",
      "    \"hiddenFees\": \"No hidden fees.\",\n",
      "    \"type\": \"Luxury boutique hotel\",\n",
      "    \"size\": \"100 rooms and suites\",\n",
      "    \"wifi\": \"Complimentary high-speed WiFi throughout the hotel.\",\n",
      "    \"breakfast\": \"Deluxe continental breakfast included for all guests.\",\n",
      "    \"poolAndSpa\": \"Outdoor pool and spa.\",\n",
      "    \"climateControl\": \"Individually controlled climate in all rooms.\",\n",
      "    \"topAmenity\": \"Temperature-controlled Wine Fridges\",\n",
      "    \"overallRating\": \"4.5\",\n",
      "    \"recentReview\": \"The Golden Gate Park Hotel was a fantastic choice for our stay in San Francisco. The staff were friendly and helpful, the rooms were luxurious, and the location was unbeatable. Highly recommended!\",\n",
      "    \"serviceAndStaff\": \"Exceptional service from the friendly and attentive staff.\",\n",
      "    \"cancellation\": \"Flexible cancellation policy with no charges if cancelled within 24 hours.\",\n",
      "    \"checkIn\": \"Check-in time is at 3:00 PM.\",\n",
      "    \"checkOut\": \"Check-out time is at 11:00 AM.\",\n",
      "    \"restaurant\": \"On-site restaurant serving locally sourced and seasonal cuisine.\",\n",
      "    \"roomService\": \"24-hour room service available.\",\n",
      "    \"familyFriendly\": \"Family-friendly amenities including cribs and babysitting services.\",\n",
      "    \"petPolicy\": \"Pet-friendly hotel with designated pet-friendly rooms.\",\n",
      "    \"shuttleService\": \"Complimentary shuttle service to popular attractions within a 5-mile radius.\",\n",
      "    \"parking\": \"Valet parking available for an additional fee.\",\n",
      "    \"safetyAndSecurity\": \"24-hour security surveillance and secure key card access to all rooms.\",\n",
      "    \"specialOffers\": \"Exclusive offers and packages available for guests.\",\n",
      "    \"ambianceAndDecor\": \"Elegant and contemporary decor with a touch of nature-inspired elements.\",\n",
      "    \"environmentalInitiatives\": \"Environmentally sustainable practices in place, including energy-efficient lighting and recycling programs.\",\n",
      "    \"businessAmenities\": \"State-of-the-art business center and meeting rooms available for corporate events.\",\n",
      "    \"viewAndSurroundings\": \"Stunning views of Golden Gate Park and the surrounding cityscape.\",\n",
      "    \"noiseLevel\": \"Rooms are soundproofed for a peaceful and relaxing stay.\"\n",
      "}\n"
     ]
    }
   ],
   "source": [
    "hotel_dict = generate_hotel()\n",
    "print(json.dumps(hotel_dict, indent=4))"
   ]
  },
  {
   "cell_type": "markdown",
   "id": "fce03e9a-800f-4031-b5fb-fa8df1410df4",
   "metadata": {},
   "source": [
    "---"
   ]
  },
  {
   "cell_type": "markdown",
   "id": "afe1a762-cdad-452a-bd4d-54b0fb310de3",
   "metadata": {},
   "source": [
    "## Set up Embedded Weaviate  \n",
    "\n",
    "Embedded Weaviate allows you to run a Weaviate vector database locally embedded into your application that runs in memory. The data you write into Embedded Weaviate is stored locally on disk in case you shut your application down and start it up at a later time. You can learn more about Embedded Weaviate [here](https://weaviate.io/developers/weaviate/installation/embedded).\n",
    "\n",
    "**Note**:\n",
    "\n",
    "Embedded Weaviate does not use Weaviate Cloud Services, but if you'd like to run your Weaviate Cluster in the cloud. You can skip this section and move onto the next."
   ]
  },
  {
   "cell_type": "code",
   "execution_count": 6,
   "id": "23541e8f-4a49-4463-8e01-b6d37c38191e",
   "metadata": {},
   "outputs": [
    {
     "name": "stdout",
     "output_type": "stream",
     "text": [
      "Started /Users/aj/.cache/weaviate-embedded: process ID 36880\n"
     ]
    },
    {
     "name": "stderr",
     "output_type": "stream",
     "text": [
      "{\"action\":\"startup\",\"default_vectorizer_module\":\"none\",\"level\":\"info\",\"msg\":\"the default vectorizer modules is set to \\\"none\\\", as a result all new schema classes without an explicit vectorizer setting, will use this vectorizer\",\"time\":\"2023-11-02T10:47:53-07:00\"}\n",
      "{\"action\":\"startup\",\"auto_schema_enabled\":true,\"level\":\"info\",\"msg\":\"auto schema enabled setting is set to \\\"true\\\"\",\"time\":\"2023-11-02T10:47:53-07:00\"}\n",
      "{\"action\":\"hnsw_vector_cache_prefill\",\"count\":3000,\"index_id\":\"hotel_2PDpU1nsqatD\",\"level\":\"info\",\"limit\":1000000000000,\"msg\":\"prefilled vector cache\",\"time\":\"2023-11-02T10:47:53-07:00\",\"took\":261041}\n",
      "{\"level\":\"warning\",\"msg\":\"Multiple vector spaces are present, GraphQL Explore and REST API list objects endpoint module include params has been disabled as a result.\",\"time\":\"2023-11-02T10:47:53-07:00\"}\n",
      "{\"action\":\"grpc_startup\",\"level\":\"info\",\"msg\":\"grpc server listening at [::]:50051\",\"time\":\"2023-11-02T10:47:53-07:00\"}\n",
      "{\"action\":\"restapi_management\",\"level\":\"info\",\"msg\":\"Serving weaviate at http://127.0.0.1:6666\",\"time\":\"2023-11-02T10:47:53-07:00\"}\n",
      "{\"action\":\"read_disk_use\",\"level\":\"warning\",\"msg\":\"disk usage currently at 84.53%, threshold set to 80.00%\",\"path\":\"/Users/aj/.local/share/weaviate\",\"time\":\"2023-11-02T10:48:23-07:00\"}\n",
      "{\"action\":\"read_disk_use\",\"level\":\"warning\",\"msg\":\"disk usage currently at 84.53%, threshold set to 80.00%\",\"path\":\"/Users/aj/.local/share/weaviate\",\"time\":\"2023-11-02T10:49:23-07:00\"}\n"
     ]
    }
   ],
   "source": [
    "import weaviate\n",
    "from weaviate.embedded import EmbeddedOptions\n",
    "\n",
    "client = weaviate.Client(\n",
    "  embedded_options=EmbeddedOptions(),\n",
    "  additional_headers = {\n",
    "        \"X-OpenAI-Api-Key\": OPENAI_API_KEY \n",
    "    }\n",
    ")\n"
   ]
  },
  {
   "cell_type": "markdown",
   "id": "db1b5eb2-e40d-4db3-9469-34968d7a2586",
   "metadata": {},
   "source": [
    "**NOTE:** Don't run the following unless you want to detele the hotel class from the vector database\n"
   ]
  },
  {
   "cell_type": "code",
   "execution_count": 32,
   "id": "0bd5741b-58c3-4abd-9ceb-ef802b929a77",
   "metadata": {},
   "outputs": [],
   "source": [
    "# Delete the class only if you want to clear your database of the Hotel Schema\n",
    "client.schema.delete_class('Hotel')"
   ]
  },
  {
   "cell_type": "code",
   "execution_count": 33,
   "id": "5d6411ca-7858-4334-a6b7-6ae26c9ca7d0",
   "metadata": {},
   "outputs": [
    {
     "name": "stderr",
     "output_type": "stream",
     "text": [
      "{\"action\":\"hnsw_vector_cache_prefill\",\"count\":1000,\"index_id\":\"hotel_2PDpU1nsqatD\",\"level\":\"info\",\"limit\":1000000000000,\"msg\":\"prefilled vector cache\",\"time\":\"2023-11-01T23:31:16-07:00\",\"took\":37250}\n"
     ]
    }
   ],
   "source": [
    "# Secondly, \n",
    "schema = {\n",
    "    \"vectorizer\": \"text2vec-openai\",\n",
    "    \"classes\": [\n",
    "        {\n",
    "            \"class\": \"Hotel\",\n",
    "            \"vectorizer\": \"text2vec-openai\",\n",
    "            \"vectorizeClassName\": True,\n",
    "            \"description\": \"A hotel\",\n",
    "            \"properties\": [\n",
    "                {\n",
    "                    \"name\": \"name\",\n",
    "                    \"description\": \"The name of the Hotel\",\n",
    "                    \"dataType\": [\"text\"]\n",
    "                },\n",
    "                {\n",
    "                    \"name\": \"address\",\n",
    "                    \"description\": \"The address of the Hotel\",\n",
    "                    \"dataType\": [\"text\"],\n",
    "                    \"moduleConfig\": {\n",
    "                        \"text2vec-openai\": {\n",
    "                            \"skip\": False,\n",
    "                            \"vectorizePropertyName\": False\n",
    "                        }\n",
    "                    }\n",
    "                },\n",
    "                {\n",
    "                    \"name\": \"proximityToAttractions\",\n",
    "                    \"description\": \"Proximity to nearby attractions\",\n",
    "                    \"dataType\": [\"text\"],\n",
    "                    \"moduleConfig\": {\n",
    "                        \"text2vec-openai\": {\n",
    "                            \"skip\": False,\n",
    "                            \"vectorizePropertyName\": False\n",
    "                        }\n",
    "                    }\n",
    "                },\n",
    "                {\n",
    "                    \"name\": \"neighborhoodSafety\",\n",
    "                    \"description\": \"Safety of the neighborhood the hotel is located in\",\n",
    "                    \"dataType\": [\"text\"],\n",
    "                    \"moduleConfig\": {\n",
    "                        \"text2vec-openai\": {\n",
    "                            \"skip\": False,\n",
    "                            \"vectorizePropertyName\": False\n",
    "                        }\n",
    "                    }\n",
    "                },\n",
    "                {\n",
    "                    \"name\": \"accessibility\",\n",
    "                    \"description\": \"Accessibility features and information\",\n",
    "                    \"dataType\": [\"text\"]\n",
    "                },\n",
    "                {\n",
    "                    \"name\": \"nightlyRate\",\n",
    "                    \"description\": \"The rate per night for staying at the hotel\",\n",
    "                    \"dataType\": [\"text\"],\n",
    "                    \"moduleConfig\": {\n",
    "                        \"text2vec-openai\": {\n",
    "                            \"skip\": False,\n",
    "                            \"vectorizePropertyName\": False\n",
    "                        }\n",
    "                    }\n",
    "                },\n",
    "                {\n",
    "                    \"name\": \"hiddenFees\",\n",
    "                    \"description\": \"Any undisclosed fees associated with the hotel\",\n",
    "                    \"dataType\": [\"text\"],\n",
    "                    \"moduleConfig\": {\n",
    "                        \"text2vec-openai\": {\n",
    "                            \"skip\": False,\n",
    "                            \"vectorizePropertyName\": False\n",
    "                        }\n",
    "                    }\n",
    "                },\n",
    "                {\n",
    "                    \"name\": \"type\",\n",
    "                    \"description\": \"Type or category of the hotel\",\n",
    "                    \"dataType\": [\"text\"]\n",
    "                },\n",
    "                {\n",
    "                    \"name\": \"size\",\n",
    "                    \"description\": \"Size or capacity of the hotel\",\n",
    "                    \"dataType\": [\"text\"],\n",
    "                    \"moduleConfig\": {\n",
    "                        \"text2vec-openai\": {\n",
    "                            \"skip\": False,\n",
    "                            \"vectorizePropertyName\": False\n",
    "                        }\n",
    "                    }\n",
    "                },\n",
    "                {\n",
    "                    \"name\": \"wifi\",\n",
    "                    \"description\": \"Wi-Fi availability and features\",\n",
    "                    \"dataType\": [\"text\"]\n",
    "                },\n",
    "                {\n",
    "                    \"name\": \"breakfast\",\n",
    "                    \"description\": \"Details about breakfast offerings\",\n",
    "                    \"dataType\": [\"text\"]\n",
    "                },\n",
    "                {\n",
    "                    \"name\": \"poolAndSpa\",\n",
    "                    \"description\": \"The pool and spa details of the hotel\",\n",
    "                    \"dataType\": [\"text\"]\n",
    "                },\n",
    "                {\n",
    "                    \"name\": \"climateControl\",\n",
    "                    \"description\": \"Climate control features in the hotel\",\n",
    "                    \"dataType\": [\"text\"]\n",
    "                },\n",
    "                {\n",
    "                    \"name\": \"topAmenity\",\n",
    "                    \"description\": \"The top amenity of the hotel\",\n",
    "                    \"dataType\": [\"text\"]\n",
    "                },\n",
    "                {\n",
    "                    \"name\": \"overallRating\",\n",
    "                    \"description\": \"The overall rating of the hotel\",\n",
    "                    \"dataType\": [\"text\"],\n",
    "                    \"moduleConfig\": {\n",
    "                        \"text2vec-openai\": {\n",
    "                            \"skip\": False,\n",
    "                            \"vectorizePropertyName\": False\n",
    "                        }\n",
    "                    }\n",
    "                },\n",
    "                {\n",
    "                    \"name\": \"recentReview\",\n",
    "                    \"description\": \"The most recent review for the hotel\",\n",
    "                    \"dataType\": [\"text\"],\n",
    "                    \"moduleConfig\": {\n",
    "                        \"text2vec-openai\": {\n",
    "                            \"skip\": False,\n",
    "                            \"vectorizePropertyName\": False\n",
    "                        }\n",
    "                    }\n",
    "                },\n",
    "                {\n",
    "                    \"name\": \"serviceAndStaff\",\n",
    "                    \"description\": \"Details about the service and staff quality\",\n",
    "                    \"dataType\": [\"text\"],\n",
    "                    \"moduleConfig\": {\n",
    "                        \"text2vec-openai\": {\n",
    "                            \"skip\": False,\n",
    "                            \"vectorizePropertyName\": False\n",
    "                        }\n",
    "                    }\n",
    "                },\n",
    "                {\n",
    "                    \"name\": \"cancellation\",\n",
    "                    \"description\": \"The cancellation policies of the hotel\",\n",
    "                    \"dataType\": [\"text\"],\n",
    "                    \"moduleConfig\": {\n",
    "                        \"text2vec-openai\": {\n",
    "                            \"skip\": False,\n",
    "                            \"vectorizePropertyName\": False\n",
    "                        }\n",
    "                    }\n",
    "                },\n",
    "                {\n",
    "                    \"name\": \"checkIn\",\n",
    "                    \"description\": \"The check-in time and procedures\",\n",
    "                    \"dataType\": [\"text\"]\n",
    "                },\n",
    "                {\n",
    "                    \"name\": \"checkOut\",\n",
    "                    \"description\": \"The check-out time and procedures\",\n",
    "                    \"dataType\": [\"text\"]\n",
    "                },\n",
    "                {\n",
    "                    \"name\": \"restaurant\",\n",
    "                    \"description\": \"Information about the hotel's restaurant\",\n",
    "                    \"dataType\": [\"text\"]\n",
    "                },\n",
    "                {\n",
    "                    \"name\": \"roomService\",\n",
    "                    \"description\": \"Details about room service offerings\",\n",
    "                    \"dataType\": [\"text\"]\n",
    "                },\n",
    "                {\n",
    "                    \"name\": \"familyFriendly\",\n",
    "                    \"description\": \"Describes how family friendly the hotel is\",\n",
    "                    \"dataType\": [\"text\"]\n",
    "                },\n",
    "                {\n",
    "                    \"name\": \"petPolicy\",\n",
    "                    \"description\": \"The pet policies of the hotel\",\n",
    "                    \"dataType\": [\"text\"]\n",
    "                },\n",
    "                {\n",
    "                    \"name\": \"shuttleService\",\n",
    "                    \"description\": \"Details about any shuttle services offered\",\n",
    "                    \"dataType\": [\"text\"]\n",
    "                },\n",
    "                {\n",
    "                    \"name\": \"parking\",\n",
    "                    \"description\": \"Parking options and details\",\n",
    "                    \"dataType\": [\"text\"],\n",
    "                    \"moduleConfig\": {\n",
    "                        \"text2vec-openai\": {\n",
    "                            \"skip\": False,\n",
    "                            \"vectorizePropertyName\": False\n",
    "                        }\n",
    "                    }\n",
    "                },\n",
    "                {\n",
    "                    \"name\": \"safetyAndSecurity\",\n",
    "                    \"description\": \"Measures taken for safety and security in the hotel\",\n",
    "                    \"dataType\": [\"text\"]\n",
    "                },\n",
    "                {\n",
    "                    \"name\": \"specialOffers\",\n",
    "                    \"description\": \"Any special offers or discounts available\",\n",
    "                    \"dataType\": [\"text\"]\n",
    "                },\n",
    "                {\n",
    "                    \"name\": \"ambianceAndDecor\",\n",
    "                    \"description\": \"Information about the ambiance and decor of the hotel\",\n",
    "                    \"dataType\": [\"text\"],\n",
    "                    \"moduleConfig\": {\n",
    "                        \"text2vec-openai\": {\n",
    "                            \"skip\": False,\n",
    "                            \"vectorizePropertyName\": False\n",
    "                        }\n",
    "                    }\n",
    "                },\n",
    "                {\n",
    "                    \"name\": \"environmentalInitiatives\",\n",
    "                    \"description\": \"Efforts taken by the hotel for environmental conservation\",\n",
    "                    \"dataType\": [\"text\"],\n",
    "                    \"moduleConfig\": {\n",
    "                        \"text2vec-openai\": {\n",
    "                            \"skip\": False,\n",
    "                            \"vectorizePropertyName\": False\n",
    "                        }\n",
    "                    }\n",
    "                },\n",
    "                {\n",
    "                    \"name\": \"businessAmenities\",\n",
    "                    \"description\": \"Business amenities of the hotel\",\n",
    "                    \"dataType\": [\"text\"]\n",
    "                },\n",
    "                {\n",
    "                    \"name\": \"viewAndSurroundings\",\n",
    "                    \"description\": \"Details about the views and surroundings of the hotel\",\n",
    "                    \"dataType\": [\"text\"]\n",
    "                },\n",
    "                {\n",
    "                    \"name\": \"noiseLevel\",\n",
    "                    \"description\": \"Information about noise levels in and around the hotel\",\n",
    "                    \"dataType\": [\"text\"]\n",
    "                }\n",
    "            ],\n",
    "            \"moduleConfig\": {\n",
    "                \"text2vec-openai\": {},\n",
    "                \"generative-openai\": {\n",
    "                    \"model\": \"gpt-4\"  \n",
    "                }  # Ensure the `generative-openai` module is used for generative queries\n",
    "            },\n",
    "        }\n",
    "    ]\n",
    "}\n",
    "\n",
    "client.schema.create(schema)\n"
   ]
  },
  {
   "cell_type": "markdown",
   "id": "370ad081-7e77-4b13-990c-e80ca00eef8f",
   "metadata": {},
   "source": [
    "Now, we can create any number of hotels, use Weaviate to help create the embeddings from those objects, and finally we can store those in Weaviate itself for vector search and generative AI applications, with just a few lines of code. Check it out!"
   ]
  },
  {
   "cell_type": "code",
   "execution_count": 12,
   "id": "2465da5e-3aa5-4dc0-8ade-6b76e1d40a14",
   "metadata": {},
   "outputs": [
    {
     "name": "stdout",
     "output_type": "stream",
     "text": [
      "Generating a new hotel\n",
      "--- Randomized Amenity: Helipad or Private Jet Access\n",
      "--- Randomized Landmark: San Francisco Museum of Modern Art (SFMOMA)\n",
      "Done\n",
      "\n",
      "\n",
      "Generating a new hotel\n",
      "--- Randomized Amenity: Temperature-controlled Wine Fridges\n",
      "--- Randomized Landmark: Chinatown\n",
      "Done\n",
      "\n",
      "\n",
      "Generating a new hotel\n",
      "--- Randomized Amenity: State-of-the-art Technology\n",
      "--- Randomized Landmark: Ferry Building\n",
      "Done\n",
      "\n",
      "\n",
      "Generating a new hotel\n",
      "--- Randomized Amenity: Private Infinity Pools\n",
      "--- Randomized Landmark: Cable Cars\n",
      "Done\n",
      "\n",
      "\n",
      "Generating a new hotel\n",
      "--- Randomized Amenity: Pet Services\n",
      "--- Randomized Landmark: Pier 39\n",
      "Done\n",
      "\n",
      "\n"
     ]
    },
    {
     "name": "stderr",
     "output_type": "stream",
     "text": [
      "{\"action\":\"read_disk_use\",\"level\":\"warning\",\"msg\":\"disk usage currently at 84.53%, threshold set to 80.00%\",\"path\":\"/Users/aj/.local/share/weaviate\",\"time\":\"2023-11-02T12:02:23-07:00\"}\n"
     ]
    }
   ],
   "source": [
    "\n",
    "for i in range (5):\n",
    "    hotel_data = generate_hotel()\n",
    "    client.data_object.create(hotel_data, \"Hotel\")\n"
   ]
  },
  {
   "cell_type": "code",
   "execution_count": 9,
   "id": "7227ede7-f994-4092-b15f-4cb0577afc6b",
   "metadata": {},
   "outputs": [
    {
     "name": "stdout",
     "output_type": "stream",
     "text": [
      "{'data': {'Get': {'Hotel': [{'_additional': {'generate': {'error': None, 'singleResult': \"Subject: Why Mission Inn is the Perfect Choice for Your Business Travel Needs\\n\\nDear [Recipient's Name],\\n\\nI hope this email finds you well. I am writing to introduce you to the Mission Inn, a hotel that perfectly caters to the needs of business travelers like yourself. \\n\\nOne of the key features of the Mission\"}}, 'address': '123 Mission Street, San Francisco, CA 94110', 'name': 'Mission Inn', 'proximityToAttractions': 'Located in the heart of the Mission District, within walking distance to Dolores Park, 16th Street Mission BART Station, and Valencia Street'}, {'_additional': {'generate': {'error': None, 'singleResult': \"Subject: Discover the Perfect Blend of Business and Leisure at Alcatraz Island Hotel\\n\\nDear [Recipient's Name],\\n\\nI hope this email finds you well. I am writing to introduce you to the Alcatraz Island Hotel, a unique destination that perfectly combines business and leisure amenities to cater to the needs of our business travelers.\\n\\nOur hotel is\"}}, 'address': '12345 Alcatraz Way, San Francisco, CA 94133', 'name': 'Alcatraz Island Hotel', 'proximityToAttractions': 'Located on Alcatraz Island, offering stunning views of the Golden Gate Bridge'}]}}}\n"
     ]
    }
   ],
   "source": [
    "# The following is tuned for someone travelling for business. You can modify the prompt create emails for other purposes also!\n",
    "\n",
    "generate_prompt = \"Explain in an email why this hotel: {name}, could be good for people travelling for business. Here's some business related amenity: {businessAmenities}. If there are some good ways to kick back and relax, you can reference those too: {topAmenity}.\"\n",
    "\n",
    "response = (\n",
    "  client.query\n",
    "  .get(\"Hotel\", [\"name\", \"address\", \"proximityToAttractions\"])\n",
    "  .with_generate(single_prompt=generate_prompt)\n",
    "  .with_near_text({\n",
    "    \"concepts\": [\"business\"]\n",
    "  })\n",
    "  .with_limit(2)\n",
    ").do()\n",
    "\n",
    "print(response)\n"
   ]
  },
  {
   "cell_type": "code",
   "execution_count": 10,
   "id": "3d7ac22e-b11f-4ba3-8fbd-9c252739383f",
   "metadata": {},
   "outputs": [
    {
     "name": "stdout",
     "output_type": "stream",
     "text": [
      "Subject: Why Mission Inn is the Perfect Choice for Your Business Travel Needs\n",
      "\n",
      "Dear [Recipient's Name],\n",
      "\n",
      "I hope this email finds you well. I am writing to introduce you to the Mission Inn, a hotel that perfectly caters to the needs of business travelers like yourself. \n",
      "\n",
      "One of the key features of the Mission\n",
      "\n",
      "\n",
      "----------------------------------------------------\n",
      "\n",
      "\n",
      "Subject: Discover the Perfect Blend of Business and Leisure at Alcatraz Island Hotel\n",
      "\n",
      "Dear [Recipient's Name],\n",
      "\n",
      "I hope this email finds you well. I am writing to introduce you to the Alcatraz Island Hotel, a unique destination that perfectly combines business and leisure amenities to cater to the needs of our business travelers.\n",
      "\n",
      "Our hotel is\n",
      "\n",
      "\n",
      "----------------------------------------------------\n",
      "\n",
      "\n"
     ]
    }
   ],
   "source": [
    "for hotel in response['data']['Get']['Hotel']:\n",
    "    print(hotel['_additional']['generate']['singleResult'])\n",
    "    print('\\n\\n----------------------------------------------------\\n\\n')"
   ]
  },
  {
   "cell_type": "markdown",
   "id": "d65b23a3-2fd1-415d-a0be-3741a810bd9a",
   "metadata": {},
   "source": [
    "## Now Let's have some fun!\n",
    "\n",
    "### Generate Descriptions\n",
    "\n",
    "Now that we're able to generate hotels and apply Weaviate's Generative Search over the results to produce the emails above, it would be super cool to \n"
   ]
  },
  {
   "cell_type": "code",
   "execution_count": 16,
   "id": "2c617098-e778-4929-99ac-50411aadf78d",
   "metadata": {},
   "outputs": [
    {
     "name": "stdout",
     "output_type": "stream",
     "text": [
      "Generating a new hotel\n",
      "--- Randomized Amenity: Rooftop Bars or Lounges\n",
      "--- Randomized Landmark: Coit Tower\n",
      "Done\n",
      "\n",
      "\n",
      "{\n",
      "    \"name\": \"Coit Tower Hotel\",\n",
      "    \"address\": \"1234 Telegraph Hill Blvd, San Francisco, CA 94133\",\n",
      "    \"proximityToAttractions\": \"Located near Coit Tower and Fisherman's Wharf\",\n",
      "    \"neighborhoodSafety\": \"Safe neighborhood with low crime rates\",\n",
      "    \"accessibility\": \"Easy access to public transportation and major highways\",\n",
      "    \"nightlyRate\": \"$200\",\n",
      "    \"hiddenFees\": \"No hidden fees\",\n",
      "    \"type\": \"Boutique Hotel\",\n",
      "    \"size\": \"Medium-sized hotel with 100 rooms\",\n",
      "    \"wifi\": \"Free high-speed WiFi throughout the hotel\",\n",
      "    \"breakfast\": \"Complimentary continental breakfast\",\n",
      "    \"poolAndSpa\": \"Outdoor pool and spa area on the rooftop\",\n",
      "    \"climateControl\": \"Individual climate control in each room\",\n",
      "    \"topAmenity\": \"Rooftop Bars and Lounges\",\n",
      "    \"overallRating\": \"4.5 stars\",\n",
      "    \"recentReview\": \"Beautiful hotel with amazing views of the city\",\n",
      "    \"serviceAndStaff\": \"Friendly and attentive staff\",\n",
      "    \"cancellation\": \"Flexible cancellation policy\",\n",
      "    \"checkIn\": \"Check-in time is 3:00 PM\",\n",
      "    \"checkOut\": \"Check-out time is 12:00 PM\",\n",
      "    \"restaurant\": \"On-site restaurant with a diverse menu\",\n",
      "    \"roomService\": \"24-hour room service\",\n",
      "    \"familyFriendly\": \"Family-friendly amenities and services available\",\n",
      "    \"petPolicy\": \"Pets allowed with additional fee\",\n",
      "    \"shuttleService\": \"Complimentary shuttle service to nearby attractions\",\n",
      "    \"parking\": \"Valet parking available for $40 per day\",\n",
      "    \"safetyAndSecurity\": \"24-hour security and surveillance\",\n",
      "    \"specialOffers\": \"Special offers for extended stays\",\n",
      "    \"ambianceAndDecor\": \"Modern and luxurious decor throughout the hotel\",\n",
      "    \"environmentalInitiatives\": \"Green initiatives for sustainable practices\",\n",
      "    \"businessAmenities\": \"Business center and meeting rooms\",\n",
      "    \"viewAndSurroundings\": \"Panoramic views of San Francisco Bay and the city skyline\",\n",
      "    \"noiseLevel\": \"Quiet rooms with soundproofing\"\n",
      "}\n",
      "Coit Tower Hotel\n"
     ]
    }
   ],
   "source": [
    "hotel_dict = generate_hotel()\n",
    "print(json.dumps(hotel_dict, indent=4))\n",
    "print(hotel_dict['name'])"
   ]
  },
  {
   "cell_type": "code",
   "execution_count": 7,
   "id": "7be56c3a-9139-438e-abf1-d98609d31903",
   "metadata": {},
   "outputs": [
    {
     "name": "stdout",
     "output_type": "stream",
     "text": [
      "The Golden Gate Park Hotel is a luxury boutique hotel located in San Francisco. It offers elegant rooms, a variety of amenities, convenient access to attractions, and a safe neighborhood environment. The hotel provides excellent service, flexible cancellation policies, and exclusive offers for guests.\n"
     ]
    }
   ],
   "source": [
    "description = openai.ChatCompletion.create(model=\"gpt-3.5-turbo\", messages=[{\"role\": \"user\", \"content\": f'''In 30 words or less describe the the following JSON in a discriptive manner: {hotel_dict}'''}])\n",
    "\n",
    "hotel_description = description.choices[0].message.content\n",
    "print(hotel_description)"
   ]
  },
  {
   "cell_type": "code",
   "execution_count": 8,
   "id": "54544cd4-b4fc-4ab7-a3a9-3950b87d1d83",
   "metadata": {},
   "outputs": [
    {
     "name": "stdout",
     "output_type": "stream",
     "text": [
      "The Golden Gate Park Hotel is a luxury boutique hotel located at 1234 Park Avenue in San Francisco, CA 94121. As you approach the hotel, you are immediately captivated by its elegant and contemporary decor with a touch of nature-inspired elements. The hotel stands tall amidst stunning views of Golden Gate Park and the surrounding cityscape.\n",
      "\n",
      "Upon entering the hotel, you are greeted by the friendly and attentive staff who provide exceptional service throughout your stay. The lobby exudes a sense of luxury and sophistication, with temperature-controlled wine fridges lining the walls, displaying the finest selection of wines.\n",
      "\n",
      "The hotel boasts 100 rooms and suites, all of which are soundproofed for a peaceful and relaxing stay. Each room is adorned with individually controlled climate settings, ensuring your desired comfort. The rooms are spacious and beautifully furnished with elegant and contemporary decor.\n",
      "\n",
      "Complimentary high-speed WiFi is available throughout the hotel, allowing you to stay connected. For breakfast, a deluxe continental spread awaits you, ensuring a satisfying start to your day. If you crave a culinary experience, the on-site restaurant offers locally sourced and seasonal cuisine.\n",
      "\n",
      "After a long day of exploring the city, you can unwind in the outdoor pool and spa, enjoying a refreshing dip or indulging in a rejuvenating spa treatment. The hotel also offers 24-hour room service, ensuring that your every need is met.\n",
      "\n",
      "The Golden Gate Park Hotel is conveniently located near public transportation routes and major highways, making it easily accessible. If you have a car, valet parking is available for an additional fee. However, if you prefer to explore without the hassle of driving, the hotel provides a complimentary shuttle service to popular attractions within a 5-mile radius.\n",
      "\n",
      "Safety and security are paramount at the Golden Gate Park Hotel. The hotel employs round-the-clock security surveillance and ensures secure key card access to all rooms. Regular police patrols and high security measures further contribute to the safe neighborhood in which the hotel is situated.\n",
      "\n",
      "The hotel offers a flexible cancellation policy with no charges if cancelled within 24 hours, accommodating any changes in your travel plans. Additionally, exclusive offers and packages are available for guests, allowing for a truly tailored experience.\n",
      "\n",
      "Environmental conservation is a key initiative of the hotel, with practices in place such as energy-efficient lighting and recycling programs, contributing to a more sustainable future. For business events, the hotel offers a state-of-the-art business center and well-equipped meeting rooms.\n",
      "\n",
      "Overall, the Golden Gate Park Hotel exceeds expectations with its luxurious accommodations, unbeatable location, and top-notch amenities. Its recent review praises the staff for their friendliness and attentiveness, and highly recommends the hotel for a stay in San Francisco.\n"
     ]
    }
   ],
   "source": [
    "imagery = openai.ChatCompletion.create(model=\"gpt-3.5-turbo\", messages=[{\"role\": \"user\", \"content\": f'''Write descriptive imagery behind the following JSON object to help visualize the entity: {hotel_dict}'''}])\n",
    "\n",
    "print(imagery.choices[0].message.content)"
   ]
  },
  {
   "cell_type": "markdown",
   "id": "edfded25-8dae-4135-a320-ac9f67ffd9ae",
   "metadata": {},
   "source": [
    "## Set up Replicate API\n",
    "\n",
    "- Ensure that you have a Replicate API Key for the following section. \n",
    "- You can get a Replicate API Key from [Replicate](https://replicate.com/)"
   ]
  },
  {
   "cell_type": "code",
   "execution_count": 9,
   "id": "1fc355e0-f6d6-4486-93a3-f3862332c638",
   "metadata": {},
   "outputs": [],
   "source": [
    "import replicate\n",
    "\n",
    "REPLICATE_API_KEY = os.getenv('REPLICATE_API_KEY')\n",
    "replicate = replicate.Client(api_token=REPLICATE_API_KEY)"
   ]
  },
  {
   "cell_type": "code",
   "execution_count": 10,
   "id": "33768705-0c4e-4bf3-8a1f-3bb1a28cf0b3",
   "metadata": {},
   "outputs": [
    {
     "name": "stderr",
     "output_type": "stream",
     "text": [
      "{\"action\":\"read_disk_use\",\"level\":\"warning\",\"msg\":\"disk usage currently at 84.53%, threshold set to 80.00%\",\"path\":\"/Users/aj/.local/share/weaviate\",\"time\":\"2023-11-02T10:51:53-07:00\"}\n"
     ]
    },
    {
     "data": {
      "text/html": [
       "<img src=\"https://replicate.delivery/pbxt/adpXT93BbULSEl3yZu2zUtMdXX6JDRvh8q5CysjPpDNuTGdE/out-0.png\" width=\"600\" height=\"600\"/>"
      ],
      "text/plain": [
       "<IPython.core.display.Image object>"
      ]
     },
     "execution_count": 10,
     "metadata": {},
     "output_type": "execute_result"
    }
   ],
   "source": [
    "image_url = replicate.run(\n",
    "    \"stability-ai/sdxl:8beff3369e81422112d93b89ca01426147de542cd4684c244b673b105188fe5f\",\n",
    "    input={\"prompt\": f\"a sleek, modern, luxury hotel room in San Francisco with a {hotel_dict['topAmenity']} and view of {hotel_dict['proximityToAttractions']}\"}\n",
    ")\n",
    "\n",
    "Image(url=image_url[0], width=600, height=600) "
   ]
  },
  {
   "cell_type": "code",
   "execution_count": 11,
   "id": "b5039847-af21-4cfe-9f6b-e6beda4209fa",
   "metadata": {},
   "outputs": [
    {
     "data": {
      "text/html": [
       "<img src=\"https://replicate.delivery/pbxt/TO6itXzrFwaiDlpJ6Jv2MHtI1ogsaYiWQbMhQxqu6t58TGdE/out-0.png\" width=\"600\" height=\"600\"/>"
      ],
      "text/plain": [
       "<IPython.core.display.Image object>"
      ]
     },
     "execution_count": 11,
     "metadata": {},
     "output_type": "execute_result"
    },
    {
     "name": "stderr",
     "output_type": "stream",
     "text": [
      "{\"action\":\"read_disk_use\",\"level\":\"warning\",\"msg\":\"disk usage currently at 84.60%, threshold set to 80.00%\",\"path\":\"/Users/aj/.local/share/weaviate\",\"time\":\"2023-11-02T11:01:53-07:00\"}\n"
     ]
    }
   ],
   "source": [
    "image_url2 = replicate.run(\n",
    "    \"stability-ai/sdxl:8beff3369e81422112d93b89ca01426147de542cd4684c244b673b105188fe5f\",\n",
    "    input={\"prompt\": imagery.choices[0].message.content}\n",
    ")\n",
    "\n",
    "Image(url=image_url2[0], width=600, height=600) "
   ]
  },
  {
   "cell_type": "markdown",
   "id": "468700c6-b9a3-40bb-9e15-947019304e84",
   "metadata": {},
   "source": [
    "## Migrate to Weaviate Cloud Services\n",
    "\n",
    "The notebook thus far has taken you through the storage of your hotel vectors in Embedded Weaviate. Embedded Weaviate runs locally on your computer, but if you want to access the data in the cloud, you can use Weaviate Cloud Services to host a Weaviate Cluster for you. Alternatively, you can deploy your own instance through docker compose or kubernetes. \n",
    "\n",
    "In the following section, we'll store your data in a Weaviate Cluster. Head on over to the [Weaviate Console](https://console.weaviate.cloud/) and create an account and then create a free cluster. Once created you'll get an API Admin Key and a Weaviate cluster URL endpoint. Add these keys to the following code block in the constants `WEAVIATE_API_KEY` and `WEAVIATE_CLUSTER_URL`, respectively."
   ]
  },
  {
   "cell_type": "code",
   "execution_count": 8,
   "id": "62871ae8-2ea3-460a-ace1-f0a08283df99",
   "metadata": {},
   "outputs": [
    {
     "name": "stdout",
     "output_type": "stream",
     "text": [
      "https://qlmrgibyt3tkorfpnlh0a.c0.us-west2.gcp.weaviate.cloud\n"
     ]
    }
   ],
   "source": [
    "import weaviate\n",
    "\n",
    "WEAVIATE_API_KEY = os.getenv('WEAVIATE_API_KEY')\n",
    "WEAVIATE_CLUSTER_URL = os.getenv('WEAVIATE_CLUSTER_URL')\n",
    "auth_config = weaviate.AuthApiKey(api_key=WEAVIATE_API_KEY)\n",
    "\n",
    "client = weaviate.Client(\n",
    "  url=WEAVIATE_CLUSTER_URL,\n",
    "  auth_client_secret=auth_config,\n",
    "    additional_headers = {\n",
    "        \"X-OpenAI-Api-Key\": OPENAI_API_KEY \n",
    "    }\n",
    ")\n"
   ]
  },
  {
   "cell_type": "markdown",
   "id": "57596308-79b1-4e4b-99f7-0e7034e23900",
   "metadata": {},
   "source": [
    "Now we create the schema in the WCS cluster by calling `schema.create` on the new client."
   ]
  },
  {
   "cell_type": "code",
   "execution_count": 50,
   "id": "4e2c5d5c-bdd8-4ee8-939c-352bb4885b58",
   "metadata": {},
   "outputs": [],
   "source": [
    "# If you want to delete old classes you can uncomment the following\n",
    "# client.schema.delete_class('Hotel')\n",
    "\n",
    "client.schema.create(schema)"
   ]
  },
  {
   "cell_type": "markdown",
   "id": "89e2205e-7fa0-46d4-aa6e-1d99c4cee749",
   "metadata": {},
   "source": [
    "And now we create our Hotel objects with with the following call to `generate_hotel`!"
   ]
  },
  {
   "cell_type": "code",
   "execution_count": null,
   "id": "d887bcb7-cef0-4e3d-8712-adc5a3177ccb",
   "metadata": {},
   "outputs": [],
   "source": [
    "for i in range(5):\n",
    "    hotel_data = generate_hotel()\n",
    "    client.data_object.create(hotel_data, \"Hotel\")"
   ]
  }
 ],
 "metadata": {
  "kernelspec": {
   "display_name": "Python 3 (ipykernel)",
   "language": "python",
   "name": "python3"
  },
  "language_info": {
   "codemirror_mode": {
    "name": "ipython",
    "version": 3
   },
   "file_extension": ".py",
   "mimetype": "text/x-python",
   "name": "python",
   "nbconvert_exporter": "python",
   "pygments_lexer": "ipython3",
   "version": "3.9.6"
  }
 },
 "nbformat": 4,
 "nbformat_minor": 5
}
