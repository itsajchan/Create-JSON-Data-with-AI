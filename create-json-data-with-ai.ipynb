{
 "cells": [
  {
   "cell_type": "markdown",
   "id": "0c8c5443-378b-48f9-9c98-27271eb1c011",
   "metadata": {},
   "source": [
    "# Use AI To Create Data for Your Apps!"
   ]
  },
  {
   "cell_type": "markdown",
   "id": "d5dd4081-a9c8-4775-a8fb-7af9d672bee9",
   "metadata": {},
   "source": [
    "\n",
    "<img src=\"https://weaviate.io/assets/images/weaviate-nav-logo-dark-f1b0e1c7144039f8231759f8ed84ee2a.svg\" alt=\"drawing\" width=\"200\"/>\n"
   ]
  },
  {
   "cell_type": "markdown",
   "id": "5e55af47-5d8e-426e-8a01-352e897bf280",
   "metadata": {},
   "source": [
    "In this notebook, we'll use AI to create data that we can use to populate our applications! This is great to showcase or demo what is possible with the apps you create. The data that you generate can be as realistic or as creative as you want it to be to make your application and projects more even more engaging! \n",
    "\n",
    "You'll learn how to...\n",
    "1. Use OpenAI to generate JSON objects of your design\n",
    "2. Create a **local Embedded Weaviate** instance defined in your code\n",
    "3. Define a schema in Weaviate to vectorize specific properties within your dataset\n",
    "4. Generate new content using **Weaviate's Generative Search module** through the power of **RAG**\n",
    "5. Make image inferenrces through a **Stable Diffusion** model to create images of your JSON objects\n",
    "6. Migrate your data to **Weaviate Cloud Services** to access your vectors in the cloud\n",
    "\n",
    "Let's get started!"
   ]
  },
  {
   "cell_type": "markdown",
   "id": "66a10079-1ff0-4260-9173-87aa8ea0c23e",
   "metadata": {},
   "source": [
    "## Set up OpenAI API\n",
    "\n",
    "- Ensure that you have a OpenAI API Key for the following section. \n",
    "- You can get a OpenAI API Key from [OpenAI](https://openai.com/)"
   ]
  },
  {
   "cell_type": "code",
   "execution_count": null,
   "id": "49385900-e279-4dd6-9d04-b1c6db7a816d",
   "metadata": {},
   "outputs": [],
   "source": [
    "import os\n",
    "import json\n",
    "import random\n",
    "import openai\n",
    "from IPython.display import Image\n",
    "from dotenv import load_dotenv\n",
    "\n",
    "load_dotenv()\n",
    "\n",
    "OPENAI_API_KEY = os.getenv('OPENAI_API_KEY')\n",
    "openai.api_key = OPENAI_API_KEY\n"
   ]
  },
  {
   "cell_type": "code",
   "execution_count": null,
   "id": "ff0eda21-39c5-442b-9107-8cad25ab0e8d",
   "metadata": {},
   "outputs": [],
   "source": [
    "luxury_amenities = [\n",
    "    \"Spa and Wellness Centers\",\n",
    "    \"Private Infinity Pools\",\n",
    "    \"Helipad or Private Jet Access\",\n",
    "    \"Michelin Starred Restaurants\",\n",
    "    \"Luxury Car Service\",\n",
    "    \"Rooftop Bars or Lounges\",\n",
    "    \"Private Beach Access\",\n",
    "    \"Custom Bedding and Pillow Menus\",\n",
    "    \"State-of-the-art Technology\",\n",
    "    \"Personal Chefs\",\n",
    "    \"24/7 Room Service\",\n",
    "    \"Exclusive Experiences\",\n",
    "    \"Personal Shopping Concierge\",\n",
    "    \"Private Cinema\",\n",
    "    \"Temperature-controlled Wine Fridges\",\n",
    "    \"Fully-equipped Gyms and Personal Trainers\",\n",
    "    \"Yoga and Meditation Classes\",\n",
    "    \"Pet Services\",\n",
    "    \"Cultural Immersion Activities\"\n",
    "]"
   ]
  },
  {
   "cell_type": "markdown",
   "id": "f0aae695-56a0-4cae-92bd-875545166118",
   "metadata": {},
   "source": [
    "We can also specify some landmarks"
   ]
  },
  {
   "cell_type": "code",
   "execution_count": null,
   "id": "3b81b487-0f73-43e5-ac86-91ceec5b0593",
   "metadata": {},
   "outputs": [],
   "source": [
    "sf_landmarks = [\n",
    "    \"Golden Gate Bridge\",\n",
    "    \"Alcatraz Island\",\n",
    "    \"Fisherman's Wharf\",\n",
    "    \"Cable Cars\",\n",
    "    \"Lombard Street\",\n",
    "    \"Union Square\",\n",
    "    \"Coit Tower\",\n",
    "    \"Palace of Fine Arts\",\n",
    "    \"Golden Gate Park\",\n",
    "    \"The Painted Ladies\",\n",
    "    \"Ghirardelli Square\",\n",
    "    \"Chinatown\",\n",
    "    \"San Francisco Museum of Modern Art (SFMOMA)\",\n",
    "    \"Ferry Building\",\n",
    "    \"The Castro\",\n",
    "    \"Twin Peaks\",\n",
    "    \"Pier 39\",\n",
    "    \"Haight-Ashbury\",\n",
    "    \"The Mission District\",\n",
    "    \"Transamerica Pyramid\"\n",
    "]"
   ]
  },
  {
   "cell_type": "markdown",
   "id": "c13c948a-38f5-4bf8-8c38-590debe8abf5",
   "metadata": {},
   "source": [
    "Now let's have ChatGPT Generate a JSON object with fictitious details including the randomized selections from above"
   ]
  },
  {
   "cell_type": "code",
   "execution_count": null,
   "id": "e70b39a9-7f10-47a3-b7ce-833df22adf39",
   "metadata": {},
   "outputs": [],
   "source": [
    "def generate_hotel():\n",
    "    print(\"Generating a new hotel\")\n",
    "    \n",
    "    amenity = luxury_amenities[random.randint(0, len(luxury_amenities)-1)]\n",
    "    landmark = sf_landmarks[random.randint(0, len(sf_landmarks)-1)]\n",
    "    print(f\"--- Randomized Amenity: {amenity}\")\n",
    "    print(f\"--- Randomized Landmark: {landmark}\")\n",
    "    \n",
    "    completion = openai.ChatCompletion.create(\n",
    "        model=\"gpt-3.5-turbo-1106\",\n",
    "        response_format={ \"type\": \"json_object\" },\n",
    "        messages=[\n",
    "            {\n",
    "                \"role\": \"user\",\n",
    "                 \"content\": f\"Generate a fictitious hotel in the form of the JSON object below. Ensure these fictitious hotels are placed throughout San Francisco with several landmarks from the city referenced in the JSON object. Name the hotel something related to the following San Francisco landmark: {landmark}.  Additionally include this amenity: {amenity} in the topAmenity object referenced in the JSON Object. Here's the JSON Object template you'll populate\" + ''':                                                                \n",
    "                    {\n",
    "                        \"name\": \"<string>\",\n",
    "                        \"address\": \"<string>\",\n",
    "                        \"proximityToAttractions\": \"<string>\",\n",
    "                        \"neighborhoodSafety\": \"<string>\",\n",
    "                        \"accessibility\": \"<string>\",\n",
    "                        \"nightlyRate\": \"<string>\",\n",
    "                        \"hiddenFees\": \"<string>\"\n",
    "                        \"type\": \"<string>\",\n",
    "                        \"size\": \"<string>\",\n",
    "                        \"wifi\": \"<string>\",\n",
    "                        \"breakfast\": \"<string>\",\n",
    "                        \"poolAndSpa\": \"<string>\",\n",
    "                        \"climateControl\": \"<string>\",\n",
    "                        \"topAmenity\": \"<string>\",\n",
    "                        \"overallRating\": \"<string>\",\n",
    "                        \"recentReview\": \"<string>\",\n",
    "                        \"serviceAndStaff\": \"<string>\",\n",
    "                        \"cancellation\": \"<string>\",\n",
    "                        \"checkIn\": \"<string>\",\n",
    "                        \"checkOut\": \"<string>\",\n",
    "                        \"restaurant\": \"<string>\",\n",
    "                        \"roomService\": \"<string>\",\n",
    "                        \"familyFriendly\": \"<string>\",\n",
    "                        \"petPolicy\": \"<string>\",\n",
    "                        \"shuttleService\": \"<string>\",\n",
    "                        \"parking\": \"<string>\",\n",
    "                        \"safetyAndSecurity\": \"<string>\",\n",
    "                        \"specialOffers\": \"<string>\",\n",
    "                        \"ambianceAndDecor\": \"<string>\",\n",
    "                        \"environmentalInitiatives\": \"<string>\",\n",
    "                        \"businessAmenities\": \"<string>\",\n",
    "                        \"viewAndSurroundings\": \"<string>\",\n",
    "                        \"noiseLevel\": \"<string>\"\n",
    "                    }\n",
    "    '''}])\n",
    "    print(\"Done\\n\\n\")\n",
    "    return json.loads(completion['choices'][0]['message']['content'])"
   ]
  },
  {
   "cell_type": "markdown",
   "id": "c37b4020-c312-4ef4-95ea-78540e915412",
   "metadata": {},
   "source": [
    "Now that we've defined our generate_hotel function, let's try it! "
   ]
  },
  {
   "cell_type": "code",
   "execution_count": null,
   "id": "12c03168-0b8f-4c87-b063-5db94f80e516",
   "metadata": {},
   "outputs": [],
   "source": [
    "hotel_dict = generate_hotel()\n",
    "print(json.dumps(hotel_dict, indent=4))"
   ]
  },
  {
   "cell_type": "markdown",
   "id": "fce03e9a-800f-4031-b5fb-fa8df1410df4",
   "metadata": {},
   "source": [
    "---"
   ]
  },
  {
   "cell_type": "markdown",
   "id": "afe1a762-cdad-452a-bd4d-54b0fb310de3",
   "metadata": {},
   "source": [
    "## Set up Embedded Weaviate  \n",
    "\n",
    "Embedded Weaviate allows you to run a Weaviate vector database locally embedded into your application that runs in memory. The data you write into Embedded Weaviate is stored locally on disk in case you shut your application down and start it up at a later time. You can learn more about Embedded Weaviate [here](https://weaviate.io/developers/weaviate/installation/embedded).\n",
    "\n",
    "**Note**:\n",
    "\n",
    "Embedded Weaviate does not use Weaviate Cloud Services, but if you'd like to run your Weaviate Cluster in the cloud. You can skip this section and move onto the next."
   ]
  },
  {
   "cell_type": "code",
   "execution_count": null,
   "id": "3da260db-2b2b-40b9-84a8-7256bf3d5fb7",
   "metadata": {
    "scrolled": true
   },
   "outputs": [],
   "source": [
    "import weaviate\n",
    "from weaviate.embedded import EmbeddedOptions\n",
    "\n",
    "client = weaviate.Client(\n",
    "  embedded_options=EmbeddedOptions(),\n",
    "  additional_headers = {\n",
    "        \"X-OpenAI-Api-Key\": OPENAI_API_KEY \n",
    "    }\n",
    ")\n"
   ]
  },
  {
   "cell_type": "markdown",
   "id": "db1b5eb2-e40d-4db3-9469-34968d7a2586",
   "metadata": {},
   "source": [
    "**NOTE:** Don't run the following unless you want to detele the hotel class from the vector database\n"
   ]
  },
  {
   "cell_type": "code",
   "execution_count": null,
   "id": "646db3dd-b2e5-47a9-aad3-642403c1a32b",
   "metadata": {},
   "outputs": [],
   "source": [
    "# Delete the class only if you want to clear your database of the Hotel Schema\n",
    "client.schema.delete_class('Hotel')"
   ]
  },
  {
   "cell_type": "code",
   "execution_count": null,
   "id": "ab5cb06c-37d8-46e1-a76b-4c5e0a406be0",
   "metadata": {},
   "outputs": [],
   "source": [
    "# Secondly, \n",
    "schema = {\n",
    "    \"vectorizer\": \"text2vec-openai\",\n",
    "    \"classes\": [\n",
    "        {\n",
    "            \"class\": \"Hotel\",\n",
    "            \"vectorizer\": \"text2vec-openai\",\n",
    "            \"vectorizeClassName\": True,\n",
    "            \"description\": \"A hotel\",\n",
    "            \"properties\": [\n",
    "                {\n",
    "                    \"name\": \"name\",\n",
    "                    \"description\": \"The name of the Hotel\",\n",
    "                    \"dataType\": [\"text\"]\n",
    "                },\n",
    "                {\n",
    "                    \"name\": \"address\",\n",
    "                    \"description\": \"The address of the Hotel\",\n",
    "                    \"dataType\": [\"text\"],\n",
    "                    \"moduleConfig\": {\n",
    "                        \"text2vec-openai\": {\n",
    "                            \"skip\": False,\n",
    "                            \"vectorizePropertyName\": False\n",
    "                        }\n",
    "                    }\n",
    "                },\n",
    "                {\n",
    "                    \"name\": \"proximityToAttractions\",\n",
    "                    \"description\": \"Proximity to nearby attractions\",\n",
    "                    \"dataType\": [\"text\"],\n",
    "                    \"moduleConfig\": {\n",
    "                        \"text2vec-openai\": {\n",
    "                            \"skip\": False,\n",
    "                            \"vectorizePropertyName\": False\n",
    "                        }\n",
    "                    }\n",
    "                },\n",
    "                {\n",
    "                    \"name\": \"neighborhoodSafety\",\n",
    "                    \"description\": \"Safety of the neighborhood the hotel is located in\",\n",
    "                    \"dataType\": [\"text\"],\n",
    "                    \"moduleConfig\": {\n",
    "                        \"text2vec-openai\": {\n",
    "                            \"skip\": False,\n",
    "                            \"vectorizePropertyName\": False\n",
    "                        }\n",
    "                    }\n",
    "                },\n",
    "                {\n",
    "                    \"name\": \"accessibility\",\n",
    "                    \"description\": \"Accessibility features and information\",\n",
    "                    \"dataType\": [\"text\"]\n",
    "                },\n",
    "                {\n",
    "                    \"name\": \"nightlyRate\",\n",
    "                    \"description\": \"The rate per night for staying at the hotel\",\n",
    "                    \"dataType\": [\"text\"],\n",
    "                    \"moduleConfig\": {\n",
    "                        \"text2vec-openai\": {\n",
    "                            \"skip\": False,\n",
    "                            \"vectorizePropertyName\": False\n",
    "                        }\n",
    "                    }\n",
    "                },\n",
    "                {\n",
    "                    \"name\": \"hiddenFees\",\n",
    "                    \"description\": \"Any undisclosed fees associated with the hotel\",\n",
    "                    \"dataType\": [\"text\"],\n",
    "                    \"moduleConfig\": {\n",
    "                        \"text2vec-openai\": {\n",
    "                            \"skip\": False,\n",
    "                            \"vectorizePropertyName\": False\n",
    "                        }\n",
    "                    }\n",
    "                },\n",
    "                {\n",
    "                    \"name\": \"type\",\n",
    "                    \"description\": \"Type or category of the hotel\",\n",
    "                    \"dataType\": [\"text\"]\n",
    "                },\n",
    "                {\n",
    "                    \"name\": \"size\",\n",
    "                    \"description\": \"Size or capacity of the hotel\",\n",
    "                    \"dataType\": [\"text\"],\n",
    "                    \"moduleConfig\": {\n",
    "                        \"text2vec-openai\": {\n",
    "                            \"skip\": False,\n",
    "                            \"vectorizePropertyName\": False\n",
    "                        }\n",
    "                    }\n",
    "                },\n",
    "                {\n",
    "                    \"name\": \"wifi\",\n",
    "                    \"description\": \"Wi-Fi availability and features\",\n",
    "                    \"dataType\": [\"text\"]\n",
    "                },\n",
    "                {\n",
    "                    \"name\": \"breakfast\",\n",
    "                    \"description\": \"Details about breakfast offerings\",\n",
    "                    \"dataType\": [\"text\"]\n",
    "                },\n",
    "                {\n",
    "                    \"name\": \"poolAndSpa\",\n",
    "                    \"description\": \"The pool and spa details of the hotel\",\n",
    "                    \"dataType\": [\"text\"]\n",
    "                },\n",
    "                {\n",
    "                    \"name\": \"climateControl\",\n",
    "                    \"description\": \"Climate control features in the hotel\",\n",
    "                    \"dataType\": [\"text\"]\n",
    "                },\n",
    "                {\n",
    "                    \"name\": \"topAmenity\",\n",
    "                    \"description\": \"The top amenity of the hotel\",\n",
    "                    \"dataType\": [\"text\"]\n",
    "                },\n",
    "                {\n",
    "                    \"name\": \"overallRating\",\n",
    "                    \"description\": \"The overall rating of the hotel\",\n",
    "                    \"dataType\": [\"text\"],\n",
    "                    \"moduleConfig\": {\n",
    "                        \"text2vec-openai\": {\n",
    "                            \"skip\": False,\n",
    "                            \"vectorizePropertyName\": False\n",
    "                        }\n",
    "                    }\n",
    "                },\n",
    "                {\n",
    "                    \"name\": \"recentReview\",\n",
    "                    \"description\": \"The most recent review for the hotel\",\n",
    "                    \"dataType\": [\"text\"],\n",
    "                    \"moduleConfig\": {\n",
    "                        \"text2vec-openai\": {\n",
    "                            \"skip\": False,\n",
    "                            \"vectorizePropertyName\": False\n",
    "                        }\n",
    "                    }\n",
    "                },\n",
    "                {\n",
    "                    \"name\": \"serviceAndStaff\",\n",
    "                    \"description\": \"Details about the service and staff quality\",\n",
    "                    \"dataType\": [\"text\"],\n",
    "                    \"moduleConfig\": {\n",
    "                        \"text2vec-openai\": {\n",
    "                            \"skip\": False,\n",
    "                            \"vectorizePropertyName\": False\n",
    "                        }\n",
    "                    }\n",
    "                },\n",
    "                {\n",
    "                    \"name\": \"cancellation\",\n",
    "                    \"description\": \"The cancellation policies of the hotel\",\n",
    "                    \"dataType\": [\"text\"],\n",
    "                    \"moduleConfig\": {\n",
    "                        \"text2vec-openai\": {\n",
    "                            \"skip\": False,\n",
    "                            \"vectorizePropertyName\": False\n",
    "                        }\n",
    "                    }\n",
    "                },\n",
    "                {\n",
    "                    \"name\": \"checkIn\",\n",
    "                    \"description\": \"The check-in time and procedures\",\n",
    "                    \"dataType\": [\"text\"]\n",
    "                },\n",
    "                {\n",
    "                    \"name\": \"checkOut\",\n",
    "                    \"description\": \"The check-out time and procedures\",\n",
    "                    \"dataType\": [\"text\"]\n",
    "                },\n",
    "                {\n",
    "                    \"name\": \"restaurant\",\n",
    "                    \"description\": \"Information about the hotel's restaurant\",\n",
    "                    \"dataType\": [\"text\"]\n",
    "                },\n",
    "                {\n",
    "                    \"name\": \"roomService\",\n",
    "                    \"description\": \"Details about room service offerings\",\n",
    "                    \"dataType\": [\"text\"]\n",
    "                },\n",
    "                {\n",
    "                    \"name\": \"familyFriendly\",\n",
    "                    \"description\": \"Describes how family friendly the hotel is\",\n",
    "                    \"dataType\": [\"text\"]\n",
    "                },\n",
    "                {\n",
    "                    \"name\": \"petPolicy\",\n",
    "                    \"description\": \"The pet policies of the hotel\",\n",
    "                    \"dataType\": [\"text\"]\n",
    "                },\n",
    "                {\n",
    "                    \"name\": \"shuttleService\",\n",
    "                    \"description\": \"Details about any shuttle services offered\",\n",
    "                    \"dataType\": [\"text\"]\n",
    "                },\n",
    "                {\n",
    "                    \"name\": \"parking\",\n",
    "                    \"description\": \"Parking options and details\",\n",
    "                    \"dataType\": [\"text\"],\n",
    "                    \"moduleConfig\": {\n",
    "                        \"text2vec-openai\": {\n",
    "                            \"skip\": False,\n",
    "                            \"vectorizePropertyName\": False\n",
    "                        }\n",
    "                    }\n",
    "                },\n",
    "                {\n",
    "                    \"name\": \"safetyAndSecurity\",\n",
    "                    \"description\": \"Measures taken for safety and security in the hotel\",\n",
    "                    \"dataType\": [\"text\"]\n",
    "                },\n",
    "                {\n",
    "                    \"name\": \"specialOffers\",\n",
    "                    \"description\": \"Any special offers or discounts available\",\n",
    "                    \"dataType\": [\"text\"]\n",
    "                },\n",
    "                {\n",
    "                    \"name\": \"ambianceAndDecor\",\n",
    "                    \"description\": \"Information about the ambiance and decor of the hotel\",\n",
    "                    \"dataType\": [\"text\"],\n",
    "                    \"moduleConfig\": {\n",
    "                        \"text2vec-openai\": {\n",
    "                            \"skip\": False,\n",
    "                            \"vectorizePropertyName\": False\n",
    "                        }\n",
    "                    }\n",
    "                },\n",
    "                {\n",
    "                    \"name\": \"environmentalInitiatives\",\n",
    "                    \"description\": \"Efforts taken by the hotel for environmental conservation\",\n",
    "                    \"dataType\": [\"text\"],\n",
    "                    \"moduleConfig\": {\n",
    "                        \"text2vec-openai\": {\n",
    "                            \"skip\": False,\n",
    "                            \"vectorizePropertyName\": False\n",
    "                        }\n",
    "                    }\n",
    "                },\n",
    "                {\n",
    "                    \"name\": \"businessAmenities\",\n",
    "                    \"description\": \"Business amenities of the hotel\",\n",
    "                    \"dataType\": [\"text\"]\n",
    "                },\n",
    "                {\n",
    "                    \"name\": \"viewAndSurroundings\",\n",
    "                    \"description\": \"Details about the views and surroundings of the hotel\",\n",
    "                    \"dataType\": [\"text\"]\n",
    "                },\n",
    "                {\n",
    "                    \"name\": \"noiseLevel\",\n",
    "                    \"description\": \"Information about noise levels in and around the hotel\",\n",
    "                    \"dataType\": [\"text\"]\n",
    "                }\n",
    "            ],\n",
    "            \"moduleConfig\": {\n",
    "                \"text2vec-openai\": {},\n",
    "                \"generative-openai\": {\n",
    "                    \"model\": \"gpt-3.5-turbo-16k\",\n",
    "                    \"maxTokensProperty\": 8192\n",
    "                } \n",
    "            },\n",
    "        }\n",
    "    ]\n",
    "}\n"
   ]
  },
  {
   "cell_type": "markdown",
   "id": "395bf399-3623-4ab6-924c-fb952d7ee138",
   "metadata": {},
   "source": [
    "Now we'll actually create the schema against the Weaviate Client object"
   ]
  },
  {
   "cell_type": "code",
   "execution_count": null,
   "id": "8e008e1d-27e4-4a1e-867c-932c336d2b99",
   "metadata": {},
   "outputs": [],
   "source": [
    "client.schema.create(schema)"
   ]
  },
  {
   "cell_type": "markdown",
   "id": "370ad081-7e77-4b13-990c-e80ca00eef8f",
   "metadata": {},
   "source": [
    "Now, we can create any number of hotels, use Weaviate to help create the embeddings from those objects, and finally we can store those in Weaviate itself for vector search and generative AI applications, with just a few lines of code. Check it out!"
   ]
  },
  {
   "cell_type": "code",
   "execution_count": null,
   "id": "bd146f4b-527a-4ddc-b26a-58ac0684b8ee",
   "metadata": {},
   "outputs": [],
   "source": [
    "for i in range (10):\n",
    "    hotel_data = generate_hotel()\n",
    "    client.data_object.create(hotel_data, \"Hotel\")"
   ]
  },
  {
   "cell_type": "code",
   "execution_count": null,
   "id": "1096d081-cad2-40ba-aeca-c1595d97d6f8",
   "metadata": {
    "scrolled": true
   },
   "outputs": [],
   "source": [
    "# The following is tuned for someone travelling for business. You can modify the prompt create emails for other purposes also!\n",
    "\n",
    "generate_prompt = \"Explain in an email why this hotel: {name}, could be good for people travelling for business. Here's some business related amenity: {businessAmenities}. If there are some good ways to kick back and relax, you can reference those too: {topAmenity}.\"\n",
    "\n",
    "response = (\n",
    "  client.query\n",
    "  .get(\"Hotel\", [\"name\", \"address\", \"proximityToAttractions\"])\n",
    "  .with_generate(single_prompt=generate_prompt)\n",
    "  .with_near_text({\n",
    "    \"concepts\": [\"business\"]\n",
    "  })\n",
    "  .with_limit(2)\n",
    ").do()\n",
    "\n",
    "for hotel in response['data']['Get']['Hotel']:\n",
    "    print(hotel['_additional']['generate']['singleResult'])\n",
    "    print('\\n\\n----------------------------------------------------\\n\\n')\n"
   ]
  },
  {
   "cell_type": "markdown",
   "id": "d65b23a3-2fd1-415d-a0be-3741a810bd9a",
   "metadata": {},
   "source": [
    "## Now Let's have some fun!\n",
    "\n",
    "### Generate Descriptions\n",
    "\n",
    "Now that we're able to generate hotels and apply Weaviate's Generative Search over the results to produce the emails above, it would be super cool to \n"
   ]
  },
  {
   "cell_type": "code",
   "execution_count": null,
   "id": "e1b06dea-572e-41f2-ae7f-3f5d1b3fb055",
   "metadata": {},
   "outputs": [],
   "source": [
    "hotel_dict = hotel_data[0]\n",
    "print(json.dumps(hotel_dict, indent=4))\n",
    "print(hotel_dict['name'])"
   ]
  },
  {
   "cell_type": "code",
   "execution_count": null,
   "id": "f428a7ad-82d6-49f5-a2e8-4786ce718a3c",
   "metadata": {},
   "outputs": [],
   "source": [
    "description = openai.ChatCompletion.create(model=\"gpt-3.5-turbo\", messages=[{\"role\": \"user\", \"content\": f'''In 30 words or less describe the the following JSON in a discriptive manner: {hotel_dict}'''}])\n",
    "\n",
    "hotel_description = description.choices[0].message.content\n",
    "print(hotel_description)"
   ]
  },
  {
   "cell_type": "code",
   "execution_count": null,
   "id": "e9bdfea8-40af-4036-a98f-ded869a66adf",
   "metadata": {},
   "outputs": [],
   "source": [
    "imagery = openai.ChatCompletion.create(model=\"gpt-3.5-turbo\", messages=[{\"role\": \"user\", \"content\": f'''Write descriptive imagery behind the following JSON object to help visualize the entity: {hotel_dict}'''}])\n",
    "\n",
    "print(imagery.choices[0].message.content)"
   ]
  },
  {
   "cell_type": "markdown",
   "id": "edfded25-8dae-4135-a320-ac9f67ffd9ae",
   "metadata": {},
   "source": [
    "## Set up Replicate API\n",
    "\n",
    "- Ensure that you have a Replicate API Key for the following section. \n",
    "- You can get a Replicate API Key from [Replicate](https://replicate.com/)"
   ]
  },
  {
   "cell_type": "code",
   "execution_count": null,
   "id": "869d286b-ad7f-4727-a305-59696cf1c052",
   "metadata": {},
   "outputs": [],
   "source": [
    "import replicate\n",
    "load_dotenv()\n",
    "REPLICATE_API_KEY = os.getenv('REPLICATE_API_KEY')\n",
    "\n",
    "replicate = replicate.Client(api_token=REPLICATE_API_KEY)"
   ]
  },
  {
   "cell_type": "code",
   "execution_count": null,
   "id": "18ee5055-d2cc-4281-8aaf-acc578acc461",
   "metadata": {},
   "outputs": [],
   "source": [
    "image_url = replicate.run(\n",
    "    \"stability-ai/sdxl:8beff3369e81422112d93b89ca01426147de542cd4684c244b673b105188fe5f\",\n",
    "    input={\"prompt\": f\"a sleek, modern, luxury hotel room in San Francisco with a {hotel_dict['topAmenity']} and view of {hotel_dict['proximityToAttractions']}\"}\n",
    ")\n",
    "\n",
    "Image(url=image_url[0], width=600, height=600) "
   ]
  },
  {
   "cell_type": "code",
   "execution_count": null,
   "id": "84074588-58d1-4464-b44c-23cfd82e079a",
   "metadata": {},
   "outputs": [],
   "source": [
    "image_url2 = replicate.run(\n",
    "    \"stability-ai/sdxl:8beff3369e81422112d93b89ca01426147de542cd4684c244b673b105188fe5f\",\n",
    "    input={\"prompt\": imagery.choices[0].message.content}\n",
    ")\n",
    "\n",
    "Image(url=image_url2[0], width=600, height=600) "
   ]
  },
  {
   "cell_type": "markdown",
   "id": "468700c6-b9a3-40bb-9e15-947019304e84",
   "metadata": {},
   "source": [
    "## Migrate to Weaviate Cloud Services\n",
    "\n",
    "The notebook thus far has taken you through the storage of your hotel vectors in Embedded Weaviate. Embedded Weaviate runs locally on your computer, but if you want to access the data in the cloud, you can use Weaviate Cloud Services to host a Weaviate Cluster for you. Alternatively, you can deploy your own instance through docker compose or kubernetes. \n",
    "\n",
    "In the following section, we'll store your data in a Weaviate Cluster. Head on over to the [Weaviate Console](https://console.weaviate.cloud/) and create an account and then create a free cluster. Once created you'll get an API Admin Key and a Weaviate cluster URL endpoint. Add these keys to the following code block in the constants `WEAVIATE_API_KEY` and `WEAVIATE_CLUSTER_URL`, respectively."
   ]
  },
  {
   "cell_type": "code",
   "execution_count": null,
   "id": "c841f2c0-7f47-4428-8e7f-7a489ae8da7a",
   "metadata": {},
   "outputs": [],
   "source": [
    "import weaviate\n",
    "load_dotenv()\n",
    "WEAVIATE_API_KEY = os.getenv('WEAVIATE_API_KEY')\n",
    "WEAVIATE_CLUSTER_URL = os.getenv('WEAVIATE_CLUSTER_URL')\n",
    "auth_config = weaviate.AuthApiKey(api_key=WEAVIATE_API_KEY)\n",
    "\n",
    "client = weaviate.Client(\n",
    "  url=WEAVIATE_CLUSTER_URL,\n",
    "  auth_client_secret=auth_config,\n",
    "    additional_headers = {\n",
    "        \"X-OpenAI-Api-Key\": OPENAI_API_KEY \n",
    "    }\n",
    ")\n"
   ]
  },
  {
   "cell_type": "markdown",
   "id": "819524e7-6a7f-41fc-8514-0a8e066b45e9",
   "metadata": {},
   "source": [
    "**OPTIONAL** If you want to delete old classes you can execute the following"
   ]
  },
  {
   "cell_type": "code",
   "execution_count": null,
   "id": "d6d2461a-4906-4c99-a483-e8de50e45d32",
   "metadata": {},
   "outputs": [],
   "source": [
    "client.schema.delete_class('Hotel')"
   ]
  },
  {
   "cell_type": "markdown",
   "id": "57596308-79b1-4e4b-99f7-0e7034e23900",
   "metadata": {},
   "source": [
    "Now we create the schema in the WCS cluster by calling `schema.create` on the new client."
   ]
  },
  {
   "cell_type": "code",
   "execution_count": null,
   "id": "e014b658-e832-414f-a718-f0b618f03d59",
   "metadata": {},
   "outputs": [],
   "source": [
    "client.schema.create(schema)"
   ]
  },
  {
   "cell_type": "markdown",
   "id": "10bca598-40a7-4cef-b54d-45382c7bfbb5",
   "metadata": {},
   "source": [
    " And we create our Hotel objects with with the following call to `generate_hotel`!"
   ]
  },
  {
   "cell_type": "code",
   "execution_count": null,
   "id": "180a86ce-0e69-4e09-8588-3df85cfa2104",
   "metadata": {},
   "outputs": [],
   "source": [
    "for i in range(100):\n",
    "    hotel_data = generate_hotel()\n",
    "    client.data_object.create(hotel_data, \"Hotel\")"
   ]
  },
  {
   "cell_type": "markdown",
   "id": "f6e18ee8-d405-4953-9d74-242b9ae6fe81",
   "metadata": {},
   "source": [
    "And that's it! In this notebook you created an email authoring tool to help hotels market target their audience through AI features like writing to users based on interests. This was powered by a large language model used to create mock hotels in JSON formats, an embedding model to create embeddings of those hotels, Weaviate - the vector database to house this data, the generative search module in Weaviate to send each query result back to an LLM to author those the emails.\n",
    "\n",
    "Some of this is abstracted from you and built directly into the Weaviate client.\n",
    "\n",
    "Happy building with Weaviate!"
   ]
  }
 ],
 "metadata": {
  "kernelspec": {
   "display_name": "Python 3 (ipykernel)",
   "language": "python",
   "name": "python3"
  },
  "language_info": {
   "codemirror_mode": {
    "name": "ipython",
    "version": 3
   },
   "file_extension": ".py",
   "mimetype": "text/x-python",
   "name": "python",
   "nbconvert_exporter": "python",
   "pygments_lexer": "ipython3",
   "version": "3.9.6"
  }
 },
 "nbformat": 4,
 "nbformat_minor": 5
}
